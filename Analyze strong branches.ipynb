{
 "cells": [
  {
   "cell_type": "code",
   "execution_count": 1,
   "metadata": {
    "collapsed": true
   },
   "outputs": [],
   "source": [
    "import pandas as pd\n",
    "import numpy as np\n",
    "from Experiment import *\n",
    "from sklearn.tree import export_graphviz\n",
    "from NewModelBuilder import *\n",
    "import pydot"
   ]
  },
  {
   "cell_type": "code",
   "execution_count": 8,
   "metadata": {},
   "outputs": [
    {
     "data": {
      "text/plain": [
       "RandomForestClassifier(bootstrap=True, class_weight=None, criterion='gini',\n",
       "            max_depth=None, max_features='auto', max_leaf_nodes=None,\n",
       "            min_impurity_split=1e-07, min_samples_leaf=24,\n",
       "            min_samples_split=2, min_weight_fraction_leaf=0.0,\n",
       "            n_estimators=100, n_jobs=1, oob_score=False, random_state=None,\n",
       "            verbose=0, warm_start=False)"
      ]
     },
     "execution_count": 8,
     "metadata": {},
     "output_type": "execute_result"
    }
   ],
   "source": [
    "np.random.seed(100)\n",
    "df,x_columns,y_column,featrue_types = read_australian()\n",
    "train_x,train_y,test_x,test_y=divide_to_train_test(df,x_columns,y_column)\n",
    "rf=RandomForestClassifier(n_estimators=100,min_samples_leaf=int(len(train_x)*0.05))\n",
    "rf.fit(train_x,train_y)\n",
    "#cs=ConjunctionSet(x_columns,df,rf,featrue_types,3000,'probability')"
   ]
  },
  {
   "cell_type": "code",
   "execution_count": null,
   "metadata": {
    "collapsed": true
   },
   "outputs": [],
   "source": [
    "def "
   ]
  },
  {
   "cell_type": "code",
   "execution_count": 6,
   "metadata": {},
   "outputs": [],
   "source": [
    "import operator\n",
    "branch_predictions_dict={i:0 for i in range(len(cs.conjunctionSet))}\n",
    "for inst in train_x:\n",
    "    for i,b in enumerate(cs.conjunctionSet):\n",
    "        if b.containsInstance(inst):\n",
    "            branch_predictions_dict[i]+=1\n",
    "for inst in test_x:\n",
    "    for i,b in enumerate(cs.conjunctionSet):\n",
    "        if b.containsInstance(inst):\n",
    "            branch_predictions_dict[i]+=1\n",
    "sortd = sorted(branch_predictions_dict.items(), key=operator.itemgetter(1))\n",
    "sortd.reverse()\n",
    "sortd={i[0]:i[1] for i in sortd}"
   ]
  },
  {
   "cell_type": "code",
   "execution_count": 7,
   "metadata": {},
   "outputs": [
    {
     "data": {
      "text/plain": [
       "entropy                    -0.266864\n",
       "number of instances         0.110777\n",
       "number of predictions       1.000000\n",
       "probability no epsilon      0.333552\n",
       "probability with epsilon    0.333605\n",
       "Name: number of predictions, dtype: float64"
      ]
     },
     "execution_count": 7,
     "metadata": {},
     "output_type": "execute_result"
    }
   ],
   "source": [
    "records=[]\n",
    "from scipy.stats import entropy\n",
    "for indx,b in enumerate(cs.conjunctionSet):\n",
    "    records.append({'number of instances':b.number_of_samples,'probability with epsilon':b.calculate_branch_probability_by_ecdf(cs.ecdf_dict),\n",
    "                   'entropy':entropy(b.label_probas),'probability no epsilon':b.calculate_branch_probability_by_ecdf2(cs.ecdf_dict),'number of predictions':sortd[indx]})\n",
    "analysis_df = pd.DataFrame(records)\n",
    "analysis_df.corr()['number of predictions']"
   ]
  },
  {
   "cell_type": "code",
   "execution_count": null,
   "metadata": {},
   "outputs": [],
   "source": [
    "for b in cs.branches_lists[1]:\n",
    "    b.printBranch()"
   ]
  },
  {
   "cell_type": "code",
   "execution_count": null,
   "metadata": {},
   "outputs": [],
   "source": [
    "for b in cs.conjunctionSet:\n",
    "    b.printBranch()\n",
    "    print(b.calculate_branch_probability_by_ecdf(cs.ecdf_dict))\n",
    "    print('----------------------')"
   ]
  },
  {
   "cell_type": "code",
   "execution_count": null,
   "metadata": {
    "collapsed": true
   },
   "outputs": [],
   "source": [
    "2 > 1.375, 4 > 5.0, 6 > 0.208, 9 > 2.5, 0 <= 0.5, 12 <= 88.0\n",
    "\n",
    "4 > 7.5, 6 > 1.375, 0 <= 0.5, 3 <= 2.5, 6 <= 2.355, 7 <= 0.5, 9 <= 0.5, 11 <= 2.5"
   ]
  },
  {
   "cell_type": "code",
   "execution_count": null,
   "metadata": {},
   "outputs": [],
   "source": [
    "min_intervals_list=[]\n",
    "for j in range(len(x_columns)):\n",
    "    if featrue_types[j]=='int':\n",
    "        min_intervals_list.append(0.49)\n",
    "        continue\n",
    "    distinct_vals = sorted(set(df[x_columns[j]].values))\n",
    "    min_interval=np.inf\n",
    "    previous = distinct_vals[0]\n",
    "    for i in distinct_vals[1:]:\n",
    "        if i-previous<min_interval:\n",
    "            min_interval = i-previous\n",
    "        previous=i\n",
    "    min_intervals_list.append(min_interval)"
   ]
  },
  {
   "cell_type": "code",
   "execution_count": null,
   "metadata": {},
   "outputs": [],
   "source": [
    "min_intervals_list"
   ]
  },
  {
   "cell_type": "code",
   "execution_count": null,
   "metadata": {},
   "outputs": [],
   "source": [
    "len(cs.conjunctionSet)"
   ]
  },
  {
   "cell_type": "code",
   "execution_count": null,
   "metadata": {},
   "outputs": [],
   "source": [
    "c=0\n",
    "for b in cs.conjunctionSet:\n",
    "    if b.features_upper[6]-b.features_lower[6]<min_intervals_list[6]:\n",
    "        c+=1\n",
    "        b.printBranch()\n",
    "print(c)"
   ]
  },
  {
   "cell_type": "code",
   "execution_count": null,
   "metadata": {},
   "outputs": [],
   "source": [
    "temp_df.iloc[1]"
   ]
  },
  {
   "cell_type": "code",
   "execution_count": null,
   "metadata": {},
   "outputs": [],
   "source": [
    "temp_df=cs.get_conjunction_set_df()\n",
    "temp_df.iloc[0]"
   ]
  },
  {
   "cell_type": "code",
   "execution_count": null,
   "metadata": {},
   "outputs": [],
   "source": [
    "for b in cs.branches_lists[1]:\n",
    "    b.printBranch()"
   ]
  },
  {
   "cell_type": "code",
   "execution_count": null,
   "metadata": {},
   "outputs": [],
   "source": [
    "for b in cs.conjunctionSet:\n",
    "    b.printBranch()"
   ]
  },
  {
   "cell_type": "code",
   "execution_count": null,
   "metadata": {},
   "outputs": [],
   "source": [
    "for b in cs.conjunctionSet:\n",
    "    if b.features_upper[4]-b.features_lower[4]<1 and b.features_lower[4]-int(b.features_lower[4])==0:\n",
    "        b.printBranch()"
   ]
  },
  {
   "cell_type": "code",
   "execution_count": null,
   "metadata": {},
   "outputs": [],
   "source": [
    "for b in cs.conjunctionSet:\n",
    "    print(b.toString())\n",
    "    print(b.features_upper)\n",
    "    print(b.features_lower)\n",
    "    print('----------------')"
   ]
  },
  {
   "cell_type": "code",
   "execution_count": null,
   "metadata": {
    "collapsed": true
   },
   "outputs": [],
   "source": []
  }
 ],
 "metadata": {
  "kernelspec": {
   "display_name": "Python 3",
   "language": "python",
   "name": "python3"
  },
  "language_info": {
   "codemirror_mode": {
    "name": "ipython",
    "version": 3
   },
   "file_extension": ".py",
   "mimetype": "text/x-python",
   "name": "python",
   "nbconvert_exporter": "python",
   "pygments_lexer": "ipython3",
   "version": "3.6.1"
  }
 },
 "nbformat": 4,
 "nbformat_minor": 2
}
