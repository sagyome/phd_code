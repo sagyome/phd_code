{
 "cells": [
  {
   "cell_type": "code",
   "execution_count": 1,
   "metadata": {},
   "outputs": [],
   "source": [
    "import pandas as pd\n",
    "import numpy as np\n",
    "from Experiment import *\n",
    "from sklearn.tree import export_graphviz\n",
    "from NewModelBuilder import *\n",
    "import pydot"
   ]
  },
  {
   "cell_type": "code",
   "execution_count": 2,
   "metadata": {},
   "outputs": [
    {
     "name": "stdout",
     "output_type": "stream",
     "text": [
      "i=0\n",
      "i=1\n",
      "i=2\n",
      "i=3\n"
     ]
    }
   ],
   "source": [
    "np.random.seed(100)\n",
    "df,x_columns,y_column=read_breast_cancer_data()\n",
    "train_x,train_y,test_x,test_y=divide_to_train_test(df,x_columns,y_column)\n",
    "rf=RandomForestClassifier(n_estimators=10)\n",
    "rf.fit(train_x,train_y)\n",
    "cs=ConjunctionSet(x_columns,df,rf,100000,'probability')"
   ]
  },
  {
   "cell_type": "code",
   "execution_count": null,
   "metadata": {},
   "outputs": [],
   "source": [
    "class_names=[str(i) for i in rf.classes_]"
   ]
  },
  {
   "cell_type": "code",
   "execution_count": null,
   "metadata": {},
   "outputs": [],
   "source": [
    "est=rf.estimators_[0]\n",
    "t=est.tree_\n",
    "export_graphviz(t,out_file='tree1.dot',feature_names=x_columns,class_names=class_names,  \n",
    "                         filled=True, rounded=True)\n",
    "est=rf.estimators_[1]\n",
    "t=est.tree_\n",
    "export_graphviz(t,out_file='tree2.dot',feature_names=x_columns,class_names=class_names,  \n",
    "                         filled=True, rounded=True)"
   ]
  },
  {
   "cell_type": "code",
   "execution_count": null,
   "metadata": {},
   "outputs": [],
   "source": [
    "nb=NewModelBuilder(cs.get_conjunction_set_df())\n",
    "nb.train_new_model()\n",
    "nb.new_model_processing()"
   ]
  },
  {
   "cell_type": "code",
   "execution_count": null,
   "metadata": {},
   "outputs": [],
   "source": [
    "est=nb.model\n",
    "t=est.tree_\n",
    "adjusted_feature_names=[x_columns[int(i.split('<')[0])]+'>'+i.split('<')[1] for i in nb.input_feature_names]\n",
    "export_graphviz(t,out_file='tree3.dot',feature_names=adjusted_feature_names,class_names=[str(i) for i in est.classes_],  \n",
    "                         filled=True, rounded=True)"
   ]
  },
  {
   "cell_type": "code",
   "execution_count": null,
   "metadata": {},
   "outputs": [],
   "source": [
    "rf_predictions=rf.predict_proba(test_x)\n",
    "nm_predictions=np.array([nb.predict_instance_probas(i)[0] for i in test_x])"
   ]
  },
  {
   "cell_type": "code",
   "execution_count": null,
   "metadata": {},
   "outputs": [],
   "source": [
    "for i,j in zip(rf_predictions,nm_predictions):\n",
    "    print(i)\n",
    "    print(j)\n",
    "    print('----------')"
   ]
  },
  {
   "cell_type": "code",
   "execution_count": null,
   "metadata": {},
   "outputs": [],
   "source": [
    "nm_predictions"
   ]
  },
  {
   "cell_type": "code",
   "execution_count": null,
   "metadata": {},
   "outputs": [],
   "source": [
    "np.sum([np.sum(np.array(i)-np.array(j))==0 for i,j in zip(rf_predictions,nm_predictions)])/len(rf_predictions)"
   ]
  },
  {
   "cell_type": "code",
   "execution_count": null,
   "metadata": {},
   "outputs": [],
   "source": [
    "rf_predictions\n",
    "nm_predictions=np.array([int(class_names[np.argmax(nb.predict_instance_probas(i)[0])]) for i in test_x])\n",
    "rf_predictions"
   ]
  },
  {
   "cell_type": "code",
   "execution_count": null,
   "metadata": {},
   "outputs": [],
   "source": [
    "for i in cs.conjunctionSet:\n",
    "    print(i.toString())\n",
    "    print('')"
   ]
  }
 ],
 "metadata": {
  "kernelspec": {
   "display_name": "Python 3",
   "language": "python",
   "name": "python3"
  },
  "language_info": {
   "codemirror_mode": {
    "name": "ipython",
    "version": 3
   },
   "file_extension": ".py",
   "mimetype": "text/x-python",
   "name": "python",
   "nbconvert_exporter": "python",
   "pygments_lexer": "ipython3",
   "version": "3.6.1"
  }
 },
 "nbformat": 4,
 "nbformat_minor": 2
}
