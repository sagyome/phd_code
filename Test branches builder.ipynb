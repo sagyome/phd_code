{
 "cells": [
  {
   "cell_type": "code",
   "execution_count": 1,
   "metadata": {
    "collapsed": true
   },
   "outputs": [],
   "source": [
    "import numpy as np\n",
    "import pandas as pd\n",
    "from Branch import Branch\n",
    "from sklearn.ensemble import RandomForestClassifier\n",
    "from ConjunctionSet import ConjunctionSet\n",
    "from sklearn.tree import export_graphviz\n",
    "import pydot\n",
    "import matplotlib.pyplot as plt\n",
    "from DataPreperation import *\n",
    "from ReadDatasetFunctions import *\n",
    "from NewModelBuilder import *\n",
    "import datetime\n",
    "\n",
    "%matplotlib inline"
   ]
  },
  {
   "cell_type": "code",
   "execution_count": 2,
   "metadata": {
    "collapsed": true
   },
   "outputs": [],
   "source": [
    "data,x_columns,y_column = read_iris_data()\n",
    "train_x,train_y,test_x,test_y=divide_to_train_test(data,x_columns,y_column)"
   ]
  },
  {
   "cell_type": "code",
   "execution_count": 3,
   "metadata": {},
   "outputs": [
    {
     "data": {
      "text/plain": [
       "RandomForestClassifier(bootstrap=True, class_weight=None, criterion='gini',\n",
       "            max_depth=2, max_features='auto', max_leaf_nodes=None,\n",
       "            min_impurity_split=1e-07, min_samples_leaf=1,\n",
       "            min_samples_split=2, min_weight_fraction_leaf=0.0,\n",
       "            n_estimators=2, n_jobs=1, oob_score=False, random_state=None,\n",
       "            verbose=0, warm_start=False)"
      ]
     },
     "execution_count": 3,
     "metadata": {},
     "output_type": "execute_result"
    }
   ],
   "source": [
    "model=RandomForestClassifier(n_estimators=2,max_depth=2)\n",
    "model.fit(train_x,train_y)"
   ]
  },
  {
   "cell_type": "code",
   "execution_count": 4,
   "metadata": {},
   "outputs": [
    {
     "name": "stdout",
     "output_type": "stream",
     "text": [
      "number of branches before filterring: 11\n",
      "number of branches after filterring: 11\n",
      "i=0\n"
     ]
    }
   ],
   "source": [
    "cs=ConjunctionSet(x_columns, data, model, amount_of_branches_threshold=1000, filter_approach='probability')"
   ]
  },
  {
   "cell_type": "code",
   "execution_count": null,
   "metadata": {
    "collapsed": true
   },
   "outputs": [],
   "source": [
    "for b in cs.conjunctionSet:\n",
    "    print(b.toString())\n",
    "    print('')"
   ]
  },
  {
   "cell_type": "code",
   "execution_count": 5,
   "metadata": {},
   "outputs": [
    {
     "data": {
      "text/html": [
       "<div>\n",
       "<style>\n",
       "    .dataframe thead tr:only-child th {\n",
       "        text-align: right;\n",
       "    }\n",
       "\n",
       "    .dataframe thead th {\n",
       "        text-align: left;\n",
       "    }\n",
       "\n",
       "    .dataframe tbody tr th {\n",
       "        vertical-align: top;\n",
       "    }\n",
       "</style>\n",
       "<table border=\"1\" class=\"dataframe\">\n",
       "  <thead>\n",
       "    <tr style=\"text-align: right;\">\n",
       "      <th></th>\n",
       "      <th>0_lower</th>\n",
       "      <th>0_upper</th>\n",
       "      <th>1_lower</th>\n",
       "      <th>1_upper</th>\n",
       "      <th>2_lower</th>\n",
       "      <th>2_upper</th>\n",
       "      <th>3_lower</th>\n",
       "      <th>3_upper</th>\n",
       "      <th>branch_probability</th>\n",
       "      <th>number_of_samples</th>\n",
       "      <th>probas</th>\n",
       "    </tr>\n",
       "  </thead>\n",
       "  <tbody>\n",
       "    <tr>\n",
       "      <th>0</th>\n",
       "      <td>-inf</td>\n",
       "      <td>5.900000</td>\n",
       "      <td>-inf</td>\n",
       "      <td>inf</td>\n",
       "      <td>-inf</td>\n",
       "      <td>2.600000</td>\n",
       "      <td>-inf</td>\n",
       "      <td>0.700000</td>\n",
       "      <td>0.06149</td>\n",
       "      <td>22.00000</td>\n",
       "      <td>[2.0, 0.0, 0.0]</td>\n",
       "    </tr>\n",
       "    <tr>\n",
       "      <th>1</th>\n",
       "      <td>-inf</td>\n",
       "      <td>5.900000</td>\n",
       "      <td>-inf</td>\n",
       "      <td>inf</td>\n",
       "      <td>2.600000</td>\n",
       "      <td>inf</td>\n",
       "      <td>-inf</td>\n",
       "      <td>0.700000</td>\n",
       "      <td>0.12297</td>\n",
       "      <td>14.83240</td>\n",
       "      <td>[1.0, 0.9230769230769231, 0.07692307692307693]</td>\n",
       "    </tr>\n",
       "    <tr>\n",
       "      <th>2</th>\n",
       "      <td>5.900000</td>\n",
       "      <td>6.250000</td>\n",
       "      <td>-inf</td>\n",
       "      <td>inf</td>\n",
       "      <td>-inf</td>\n",
       "      <td>inf</td>\n",
       "      <td>-inf</td>\n",
       "      <td>0.700000</td>\n",
       "      <td>0.03556</td>\n",
       "      <td>12.40967</td>\n",
       "      <td>[1.0, 0.7142857142857143, 0.2857142857142857]</td>\n",
       "    </tr>\n",
       "    <tr>\n",
       "      <th>3</th>\n",
       "      <td>6.250000</td>\n",
       "      <td>inf</td>\n",
       "      <td>-inf</td>\n",
       "      <td>inf</td>\n",
       "      <td>-inf</td>\n",
       "      <td>inf</td>\n",
       "      <td>-inf</td>\n",
       "      <td>0.700000</td>\n",
       "      <td>0.11334</td>\n",
       "      <td>23.45208</td>\n",
       "      <td>[1.0, 0.125, 0.875]</td>\n",
       "    </tr>\n",
       "    <tr>\n",
       "      <th>4</th>\n",
       "      <td>-inf</td>\n",
       "      <td>5.900000</td>\n",
       "      <td>-inf</td>\n",
       "      <td>inf</td>\n",
       "      <td>-inf</td>\n",
       "      <td>2.600000</td>\n",
       "      <td>0.700000</td>\n",
       "      <td>inf</td>\n",
       "      <td>0.12297</td>\n",
       "      <td>20.44505</td>\n",
       "      <td>[1.0, 0.90625, 0.09375]</td>\n",
       "    </tr>\n",
       "    <tr>\n",
       "      <th>5</th>\n",
       "      <td>-inf</td>\n",
       "      <td>5.900000</td>\n",
       "      <td>-inf</td>\n",
       "      <td>inf</td>\n",
       "      <td>2.600000</td>\n",
       "      <td>4.750000</td>\n",
       "      <td>0.700000</td>\n",
       "      <td>inf</td>\n",
       "      <td>0.11068</td>\n",
       "      <td>13.78405</td>\n",
       "      <td>[0.0, 1.8293269230769231, 0.17067307692307693]</td>\n",
       "    </tr>\n",
       "    <tr>\n",
       "      <th>6</th>\n",
       "      <td>5.900000</td>\n",
       "      <td>6.250000</td>\n",
       "      <td>-inf</td>\n",
       "      <td>inf</td>\n",
       "      <td>-inf</td>\n",
       "      <td>4.750000</td>\n",
       "      <td>0.700000</td>\n",
       "      <td>inf</td>\n",
       "      <td>0.04504</td>\n",
       "      <td>11.53256</td>\n",
       "      <td>[0.0, 1.6205357142857144, 0.3794642857142857]</td>\n",
       "    </tr>\n",
       "    <tr>\n",
       "      <th>7</th>\n",
       "      <td>6.250000</td>\n",
       "      <td>inf</td>\n",
       "      <td>-inf</td>\n",
       "      <td>inf</td>\n",
       "      <td>-inf</td>\n",
       "      <td>4.750000</td>\n",
       "      <td>0.700000</td>\n",
       "      <td>inf</td>\n",
       "      <td>0.14357</td>\n",
       "      <td>21.79449</td>\n",
       "      <td>[0.0, 1.03125, 0.96875]</td>\n",
       "    </tr>\n",
       "    <tr>\n",
       "      <th>8</th>\n",
       "      <td>-inf</td>\n",
       "      <td>5.900000</td>\n",
       "      <td>-inf</td>\n",
       "      <td>inf</td>\n",
       "      <td>4.750000</td>\n",
       "      <td>inf</td>\n",
       "      <td>0.700000</td>\n",
       "      <td>inf</td>\n",
       "      <td>0.13527</td>\n",
       "      <td>15.16575</td>\n",
       "      <td>[0.0, 0.9524886877828055, 1.0475113122171946]</td>\n",
       "    </tr>\n",
       "    <tr>\n",
       "      <th>9</th>\n",
       "      <td>5.900000</td>\n",
       "      <td>6.250000</td>\n",
       "      <td>-inf</td>\n",
       "      <td>inf</td>\n",
       "      <td>4.750000</td>\n",
       "      <td>inf</td>\n",
       "      <td>0.700000</td>\n",
       "      <td>inf</td>\n",
       "      <td>0.02608</td>\n",
       "      <td>12.68858</td>\n",
       "      <td>[0.0, 0.7436974789915967, 1.2563025210084033]</td>\n",
       "    </tr>\n",
       "    <tr>\n",
       "      <th>10</th>\n",
       "      <td>6.250000</td>\n",
       "      <td>inf</td>\n",
       "      <td>-inf</td>\n",
       "      <td>inf</td>\n",
       "      <td>4.750000</td>\n",
       "      <td>inf</td>\n",
       "      <td>0.700000</td>\n",
       "      <td>inf</td>\n",
       "      <td>0.08312</td>\n",
       "      <td>23.97916</td>\n",
       "      <td>[0.0, 0.15441176470588236, 1.8455882352941178]</td>\n",
       "    </tr>\n",
       "  </tbody>\n",
       "</table>\n",
       "</div>"
      ],
      "text/plain": [
       "     0_lower   0_upper  1_lower  1_upper   2_lower   2_upper   3_lower  \\\n",
       "0       -inf  5.900000     -inf      inf      -inf  2.600000      -inf   \n",
       "1       -inf  5.900000     -inf      inf  2.600000       inf      -inf   \n",
       "2   5.900000  6.250000     -inf      inf      -inf       inf      -inf   \n",
       "3   6.250000       inf     -inf      inf      -inf       inf      -inf   \n",
       "4       -inf  5.900000     -inf      inf      -inf  2.600000  0.700000   \n",
       "5       -inf  5.900000     -inf      inf  2.600000  4.750000  0.700000   \n",
       "6   5.900000  6.250000     -inf      inf      -inf  4.750000  0.700000   \n",
       "7   6.250000       inf     -inf      inf      -inf  4.750000  0.700000   \n",
       "8       -inf  5.900000     -inf      inf  4.750000       inf  0.700000   \n",
       "9   5.900000  6.250000     -inf      inf  4.750000       inf  0.700000   \n",
       "10  6.250000       inf     -inf      inf  4.750000       inf  0.700000   \n",
       "\n",
       "     3_upper  branch_probability  number_of_samples  \\\n",
       "0   0.700000             0.06149           22.00000   \n",
       "1   0.700000             0.12297           14.83240   \n",
       "2   0.700000             0.03556           12.40967   \n",
       "3   0.700000             0.11334           23.45208   \n",
       "4        inf             0.12297           20.44505   \n",
       "5        inf             0.11068           13.78405   \n",
       "6        inf             0.04504           11.53256   \n",
       "7        inf             0.14357           21.79449   \n",
       "8        inf             0.13527           15.16575   \n",
       "9        inf             0.02608           12.68858   \n",
       "10       inf             0.08312           23.97916   \n",
       "\n",
       "                                            probas  \n",
       "0                                  [2.0, 0.0, 0.0]  \n",
       "1   [1.0, 0.9230769230769231, 0.07692307692307693]  \n",
       "2    [1.0, 0.7142857142857143, 0.2857142857142857]  \n",
       "3                              [1.0, 0.125, 0.875]  \n",
       "4                          [1.0, 0.90625, 0.09375]  \n",
       "5   [0.0, 1.8293269230769231, 0.17067307692307693]  \n",
       "6    [0.0, 1.6205357142857144, 0.3794642857142857]  \n",
       "7                          [0.0, 1.03125, 0.96875]  \n",
       "8    [0.0, 0.9524886877828055, 1.0475113122171946]  \n",
       "9    [0.0, 0.7436974789915967, 1.2563025210084033]  \n",
       "10  [0.0, 0.15441176470588236, 1.8455882352941178]  "
      ]
     },
     "execution_count": 5,
     "metadata": {},
     "output_type": "execute_result"
    }
   ],
   "source": [
    "df=cs.get_conjunction_set_df().round(decimals=5)\n",
    "df"
   ]
  },
  {
   "cell_type": "code",
   "execution_count": null,
   "metadata": {
    "collapsed": true
   },
   "outputs": [],
   "source": [
    "df_dict={}\n",
    "for col in df.columns:\n",
    "    df_dict[col]=df[col].values"
   ]
  },
  {
   "cell_type": "code",
   "execution_count": null,
   "metadata": {
    "collapsed": true
   },
   "outputs": [],
   "source": [
    "df"
   ]
  },
  {
   "cell_type": "code",
   "execution_count": null,
   "metadata": {
    "collapsed": true
   },
   "outputs": [],
   "source": [
    "%%prun\n",
    "node=Node([True]*len(df))\n",
    "node.split(df_dict)"
   ]
  },
  {
   "cell_type": "code",
   "execution_count": null,
   "metadata": {
    "collapsed": true
   },
   "outputs": [],
   "source": [
    "import warnings\n",
    "warnings.filterwarnings('ignore')\n",
    "for indx,inst in enumerate(test_x):\n",
    "    #print('branch:')\n",
    "    for i,b in enumerate(cs.conjunctionSet):\n",
    "        if b.containsInstance(inst):\n",
    "            probas_sum=np.sum(b.label_probas)\n",
    "            break\n",
    "    #print(model.predict_proba(inst)[0])\n",
    "    prediction,depth=node.predict_probas_and_depth(inst,df_dict)\n",
    "    #print(prediction)\n",
    "    rf_prediction=model.predict_proba(inst)[0]\n",
    "    #print(rf_prediction)\n",
    "    \n",
    "    if np.argmax(prediction) != np.argmax(rf_prediction):\n",
    "        print(prediction)\n",
    "        #print(b.label_probas/probas_sum)\n",
    "        print(rf_prediction)\n",
    "        print(test_y[indx])\n",
    "        print('--------------------')"
   ]
  },
  {
   "cell_type": "code",
   "execution_count": null,
   "metadata": {
    "collapsed": true
   },
   "outputs": [],
   "source": [
    "def get_depth(t,indx):\n",
    "    if t.feature[indx] == -2:\n",
    "        return 1\n",
    "    return 1 + max(get_depth(t,t.children_left[indx]),get_depth(t,t.children_right[indx]))"
   ]
  },
  {
   "cell_type": "code",
   "execution_count": null,
   "metadata": {
    "collapsed": true
   },
   "outputs": [],
   "source": [
    "get_depth(t,0)"
   ]
  },
  {
   "cell_type": "code",
   "execution_count": null,
   "metadata": {
    "collapsed": true
   },
   "outputs": [],
   "source": [
    "est=model.estimators_[0]\n",
    "t = est.tree_\n",
    "t.children_left"
   ]
  },
  {
   "cell_type": "code",
   "execution_count": null,
   "metadata": {
    "collapsed": true
   },
   "outputs": [],
   "source": [
    "import warnings\n",
    "warnings.filterwarnings('ignore')\n",
    "for indx,inst in enumerate(test_x):\n",
    "    #print('branch:')\n",
    "    for i,b in enumerate(cs.conjunctionSet):\n",
    "        if b.containsInstance(inst):\n",
    "            probas_sum=np.sum(b.label_probas)\n",
    "            #print(b.label_probas/probas_sum)\n",
    "    #print(model.predict_proba(inst)[0])\n",
    "    prediction,depth=node.predict_probas_and_depth(inst,df_dict)\n",
    "    #print(prediction)\n",
    "    rf_prediction=model.predict_proba(inst)[0]\n",
    "    #print(rf_prediction)\n",
    "    \n",
    "    if np.argmax(prediction) != np.argmax(rf_prediction):\n",
    "        print(prediction)\n",
    "        print(rf_prediction)\n",
    "        print(test_y[indx])\n",
    "        print('--------------------')"
   ]
  },
  {
   "cell_type": "code",
   "execution_count": null,
   "metadata": {
    "collapsed": true
   },
   "outputs": [],
   "source": [
    "n=node.right.right.right.right.right.right.right.right\n",
    "n.get_node_prediction(df_dict)"
   ]
  },
  {
   "cell_type": "code",
   "execution_count": null,
   "metadata": {
    "collapsed": true
   },
   "outputs": [],
   "source": [
    "#df[node.right.right.right.right.left.right.right.get_node_prediction(df_dict)]\n",
    "v=df_dict['probas'][node.right.right.right.right.left.right.right.mask][0]\n",
    "v=[i/np.sum(v) for i in v]\n",
    "np.array(v)"
   ]
  },
  {
   "cell_type": "code",
   "execution_count": null,
   "metadata": {
    "collapsed": true
   },
   "outputs": [],
   "source": [
    "node.left.right.left.left.check_feature_split_value(df,'1_lower')"
   ]
  },
  {
   "cell_type": "code",
   "execution_count": null,
   "metadata": {
    "collapsed": true
   },
   "outputs": [],
   "source": [
    "n=node.left.right.left.left\n",
    "feature_columns=[col for col in df.columns if 'lower' in col or 'upper' in col]\n",
    "relevant_cols=[col for col in feature_columns if len(set(df[n.mask][col])) > 1]\n",
    "relevant_cols"
   ]
  },
  {
   "cell_type": "code",
   "execution_count": null,
   "metadata": {
    "collapsed": true
   },
   "outputs": [],
   "source": [
    "n=node.left.right.left.left\n",
    "col='1_lower'\n",
    "threshold_to_devision_value={}\n",
    "if 'upper' in col:\n",
    "    for threshold in set(df[n.mask][col]):\n",
    "        right_size = len([i for i in df[n.mask][col.replace('upper','lower')] if i > threshold])\n",
    "        left_size = len(df[n.mask]) - right_size\n",
    "        threshold_to_devision_value[threshold]=np.abs(left_size-right_size)\n",
    "else:\n",
    "    for threshold in set(df[n.mask][col]):\n",
    "        right_size = len([i for i in df[n.mask][col.replace('lower','upper')] if i <= threshold])\n",
    "        left_size = len(df[n.mask]) - right_size\n",
    "        threshold_to_devision_value[threshold] = np.abs(left_size - right_size)\n",
    "threshold = min(threshold_to_devision_value, key=threshold_to_devision_value.get)\n",
    "val= threshold_to_devision_value[threshold]\n",
    "print(threshold,val)"
   ]
  },
  {
   "cell_type": "code",
   "execution_count": null,
   "metadata": {
    "collapsed": true
   },
   "outputs": [],
   "source": [
    "for inst in test_x:\n",
    "    for i,b in enumerate(cs.conjunctionSet):\n",
    "        if b.containsInstance(inst):\n",
    "            probas_sum=np.sum(b.label_probas)\n",
    "            print(b.label_probas/probas_sum)\n",
    "            print(i)\n",
    "    #print(model.predict_proba(inst)[0])\n",
    "    print(node.predict(inst,df))\n",
    "    print('--------------------')"
   ]
  },
  {
   "cell_type": "code",
   "execution_count": null,
   "metadata": {
    "collapsed": true
   },
   "outputs": [],
   "source": [
    "node.predict(test_x[11],df)"
   ]
  },
  {
   "cell_type": "code",
   "execution_count": null,
   "metadata": {
    "collapsed": true
   },
   "outputs": [],
   "source": [
    "df"
   ]
  },
  {
   "cell_type": "code",
   "execution_count": null,
   "metadata": {
    "collapsed": true
   },
   "outputs": [],
   "source": [
    "model.predict_proba(test_x[1])"
   ]
  },
  {
   "cell_type": "code",
   "execution_count": null,
   "metadata": {
    "collapsed": true
   },
   "outputs": [],
   "source": [
    "model.classes_"
   ]
  },
  {
   "cell_type": "code",
   "execution_count": null,
   "metadata": {
    "collapsed": true
   },
   "outputs": [],
   "source": [
    "x=np.array([0,1,2])\n",
    "x+0.001"
   ]
  },
  {
   "cell_type": "code",
   "execution_count": null,
   "metadata": {
    "collapsed": true
   },
   "outputs": [],
   "source": [
    "model.predict_proba(test_x[1])"
   ]
  },
  {
   "cell_type": "code",
   "execution_count": null,
   "metadata": {
    "collapsed": true
   },
   "outputs": [],
   "source": [
    "node.predict(test_x[1],df)"
   ]
  },
  {
   "cell_type": "code",
   "execution_count": null,
   "metadata": {
    "collapsed": true
   },
   "outputs": [],
   "source": [
    "df.sort_values('branch_probability',ascending=False)"
   ]
  },
  {
   "cell_type": "code",
   "execution_count": null,
   "metadata": {
    "collapsed": true
   },
   "outputs": [],
   "source": [
    "v=np.array([np.array(l) for l in df['probas']])\n",
    "branches_probas=np.array(df['branch_probability'].values).reshape(len(df),1)\n",
    "v=v*branches_probas\n",
    "v=v.mean(axis=0)\n",
    "v=[i/sum(v) for i in v]\n",
    "v"
   ]
  },
  {
   "cell_type": "code",
   "execution_count": null,
   "metadata": {
    "collapsed": true
   },
   "outputs": [],
   "source": [
    "df[node.left.left.left.left.left.left.left.mask].shape"
   ]
  },
  {
   "cell_type": "code",
   "execution_count": null,
   "metadata": {
    "collapsed": true
   },
   "outputs": [],
   "source": [
    "df[node.left.left.left.left.left.left.left.left.left.left.left.left.left.left.left.left.left.left.left.left.left.left.left.mask]"
   ]
  },
  {
   "cell_type": "code",
   "execution_count": null,
   "metadata": {
    "collapsed": true
   },
   "outputs": [],
   "source": [
    "n=node.left.left.left.left.left.left.select_random_split_feature(df,[col for col in df.columns if '_' in col])"
   ]
  },
  {
   "cell_type": "code",
   "execution_count": null,
   "metadata": {
    "collapsed": true
   },
   "outputs": [],
   "source": [
    "n=node.left.left.left.left.left"
   ]
  },
  {
   "cell_type": "code",
   "execution_count": null,
   "metadata": {
    "collapsed": true
   },
   "outputs": [],
   "source": [
    "for col in df.columns:\n",
    "    if 'lower' not in col:\n",
    "        continue\n",
    "    "
   ]
  },
  {
   "cell_type": "code",
   "execution_count": null,
   "metadata": {
    "collapsed": true
   },
   "outputs": [],
   "source": [
    "print(node.left.split_feature)\n",
    "print(node.left.split_value)"
   ]
  },
  {
   "cell_type": "code",
   "execution_count": null,
   "metadata": {
    "collapsed": true
   },
   "outputs": [],
   "source": [
    "df[node.left.left.mask]"
   ]
  },
  {
   "cell_type": "code",
   "execution_count": null,
   "metadata": {
    "collapsed": true
   },
   "outputs": [],
   "source": [
    "print(node.left.left.split_feature)\n",
    "print(node.left.left.split_value)"
   ]
  },
  {
   "cell_type": "code",
   "execution_count": null,
   "metadata": {
    "collapsed": true
   },
   "outputs": [],
   "source": [
    "df[node.left.left.left.mask]"
   ]
  },
  {
   "cell_type": "code",
   "execution_count": null,
   "metadata": {
    "collapsed": true
   },
   "outputs": [],
   "source": [
    "print(node.left.left.left.split_feature)\n",
    "print(node.left.left.left.split_value)"
   ]
  },
  {
   "cell_type": "code",
   "execution_count": null,
   "metadata": {
    "collapsed": true
   },
   "outputs": [],
   "source": [
    "original_mask=node.left.left.left.mask\n",
    "left_mask=node.left.left.left.left_mask\n",
    "for i,j,k,h in zip(original_mask,left_mask,list(np.logical_and(original_mask,left_mask)),original_mask and left_mask):\n",
    "    print(i)\n",
    "    print(j)\n",
    "    print(k)\n",
    "    print(h)\n",
    "    print('-------------')"
   ]
  },
  {
   "cell_type": "code",
   "execution_count": null,
   "metadata": {
    "collapsed": true
   },
   "outputs": [],
   "source": [
    "node.left.left.left.left_mask"
   ]
  },
  {
   "cell_type": "code",
   "execution_count": null,
   "metadata": {
    "collapsed": true
   },
   "outputs": [],
   "source": [
    "for i in t.value:\n",
    "    print(np.argmax(i[0]))"
   ]
  },
  {
   "cell_type": "code",
   "execution_count": null,
   "metadata": {
    "collapsed": true
   },
   "outputs": [],
   "source": [
    "model=new_model_builder.model\n",
    "t=model.tree_\n",
    "new_tree_features=new_model_builder.feature_names\n",
    "new_features=[]\n",
    "new_thresholds=[]\n",
    "original_features=[(int(i.split('<')[0]),float(i.split('<')[1])) for i in new_tree_features]\n",
    "for feature,threshold in zip(t.feature,t.threshold):\n",
    "    if feature<0:\n",
    "        new_features.append(feature)\n",
    "        new_thresholds.append(threshold)\n",
    "        continue\n",
    "    new_features.append(original_features[feature][0])\n",
    "    new_thresholds.append(original_features[feature][1])\n",
    "new_thresholds"
   ]
  },
  {
   "cell_type": "code",
   "execution_count": null,
   "metadata": {
    "collapsed": true
   },
   "outputs": [],
   "source": [
    "records=[]\n",
    "for b in mg.conjunctionSet:\n",
    "    records.extend(b.get_branch_records())\n"
   ]
  },
  {
   "cell_type": "code",
   "execution_count": null,
   "metadata": {
    "collapsed": true
   },
   "outputs": [],
   "source": [
    "data=pd.DataFrame(records).fillna(0)"
   ]
  },
  {
   "cell_type": "code",
   "execution_count": null,
   "metadata": {
    "collapsed": true
   },
   "outputs": [],
   "source": [
    "est=rf.estimators_[0]\n",
    "t=est.tree_\n",
    "export_graphviz(t,out_file='tree.dot',feature_names=iris.feature_names,class_names=iris.target_names,  \n",
    "                         filled=True, rounded=True)"
   ]
  }
 ],
 "metadata": {
  "kernelspec": {
   "display_name": "Python 3",
   "language": "python",
   "name": "python3"
  },
  "language_info": {
   "codemirror_mode": {
    "name": "ipython",
    "version": 3
   },
   "file_extension": ".py",
   "mimetype": "text/x-python",
   "name": "python",
   "nbconvert_exporter": "python",
   "pygments_lexer": "ipython3",
   "version": "3.6.1"
  }
 },
 "nbformat": 4,
 "nbformat_minor": 2
}
