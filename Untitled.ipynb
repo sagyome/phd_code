{
 "cells": [
  {
   "cell_type": "code",
   "execution_count": 48,
   "metadata": {
    "collapsed": true
   },
   "outputs": [],
   "source": [
    "import pandas as pd\n",
    "import numpy as np\n",
    "from Experiment import *\n",
    "from sklearn.tree import export_graphviz\n",
    "from NewModelBuilder import *\n",
    "import pydot\n",
    "import warnings\n",
    "warnings.filterwarnings('ignore')\n",
    "from sklearn.metrics import roc_curve, auc"
   ]
  },
  {
   "cell_type": "code",
   "execution_count": 26,
   "metadata": {},
   "outputs": [
    {
     "data": {
      "text/plain": [
       "RandomForestClassifier(bootstrap=True, class_weight=None, criterion='gini',\n",
       "            max_depth=None, max_features='auto', max_leaf_nodes=None,\n",
       "            min_impurity_split=1e-07, min_samples_leaf=24,\n",
       "            min_samples_split=2, min_weight_fraction_leaf=0.0,\n",
       "            n_estimators=10, n_jobs=1, oob_score=False, random_state=None,\n",
       "            verbose=0, warm_start=False)"
      ]
     },
     "execution_count": 26,
     "metadata": {},
     "output_type": "execute_result"
    }
   ],
   "source": [
    "np.random.seed(100)\n",
    "df,x_columns,y_column,featrue_types = read_australian()\n",
    "train_x,train_y,test_x,test_y=divide_to_train_test(df,x_columns,y_column)\n",
    "rf=RandomForestClassifier(n_estimators=10,min_samples_leaf=int(len(train_x)*0.05))\n",
    "rf.fit(train_x,train_y)\n",
    "#cs=ConjunctionSet(x_columns,df,rf,featrue_types,3000,'probability')"
   ]
  },
  {
   "cell_type": "code",
   "execution_count": 12,
   "metadata": {},
   "outputs": [
    {
     "data": {
      "text/plain": [
       "array([1, 1, 1, 1, 1, 1, 1, 1, 1, 1, 1, 1, 1, 1])"
      ]
     },
     "execution_count": 12,
     "metadata": {},
     "output_type": "execute_result"
    }
   ],
   "source": [
    "inst=train_x[0]\n",
    "np.array([0]*len(inst))+np.array([1]*len(inst))"
   ]
  },
  {
   "cell_type": "code",
   "execution_count": 44,
   "metadata": {},
   "outputs": [
    {
     "data": {
      "text/plain": [
       "array([0.35820896, 0.64179104])"
      ]
     },
     "execution_count": 44,
     "metadata": {},
     "output_type": "execute_result"
    }
   ],
   "source": [
    "t = rf.estimators_[0]\n",
    "t.predict_proba(inst)[0]"
   ]
  },
  {
   "cell_type": "code",
   "execution_count": 60,
   "metadata": {},
   "outputs": [
    {
     "name": "stdout",
     "output_type": "stream",
     "text": [
      "full: 0.9477496943923142\n",
      "0 : 0.9503021642189355\n",
      "1 : 0.9430708837657753\n",
      "2 : 0.9489807338027926\n",
      "3 : 0.9474182607048777\n",
      "4 : 0.9496780358464904\n",
      "5 : 0.9446634871989118\n",
      "6 : 0.9433420567827688\n",
      "7 : 0.9413448459909438\n",
      "8 : 0.9509392055921901\n",
      "9 : 0.9509478142593963\n"
     ]
    }
   ],
   "source": [
    "from sklearn.metrics import roc_curve, auc\n",
    "def get_auc(Y,y_score,classes):\n",
    "    y_test_binarize=np.array([[1 if i == c else 0 for c in classes] for i in Y])\n",
    "    fpr, tpr, _ = roc_curve(y_test_binarize.ravel(), y_score.ravel())\n",
    "    return auc(fpr, tpr)\n",
    "def predict_with_excluded_trees(model,excluded_indexes,X):\n",
    "    predictions=[]\n",
    "    for inst in X:\n",
    "        predictions.append(predict_instance_with_excluded_tree(model,excluded_indexes,inst))\n",
    "    return np.array(predictions)\n",
    "def predict_instance_with_excluded_tree(model,excluded_indexes,inst):\n",
    "    v=np.array([0]*model.n_classes_)\n",
    "    for i,t in enumerate(rf.estimators_):\n",
    "        if i in excluded_indexes:\n",
    "            continue\n",
    "        v = v + t.predict_proba(inst)[0]\n",
    "    return v/np.sum(v)\n",
    "predictions = predict_with_excluded_trees(rf,[],train_x)\n",
    "print('full: '+str(get_auc(train_y,predictions,rf.classes_)))\n",
    "for i in range(len(rf.estimators_)):\n",
    "    predictions = predict_with_excluded_trees(rf,[i],train_x)\n",
    "    print(str(i)+\" : \"+str(get_auc(train_y,predictions,rf.classes_)))"
   ]
  },
  {
   "cell_type": "code",
   "execution_count": 39,
   "metadata": {},
   "outputs": [
    {
     "name": "stderr",
     "output_type": "stream",
     "text": [
      "C:\\Users\\sagio\\AppData\\Local\\Continuum\\Anaconda3\\lib\\site-packages\\sklearn\\utils\\validation.py:395: DeprecationWarning: Passing 1d arrays as data is deprecated in 0.17 and will raise ValueError in 0.19. Reshape your data either using X.reshape(-1, 1) if your data has a single feature or X.reshape(1, -1) if it contains a single sample.\n",
      "  DeprecationWarning)\n"
     ]
    },
    {
     "data": {
      "text/plain": [
       "array([[0.18259176, 0.81740824]])"
      ]
     },
     "execution_count": 39,
     "metadata": {},
     "output_type": "execute_result"
    }
   ],
   "source": [
    "rf.predict_proba(train_x[0])"
   ]
  },
  {
   "cell_type": "code",
   "execution_count": 29,
   "metadata": {},
   "outputs": [
    {
     "name": "stderr",
     "output_type": "stream",
     "text": [
      "C:\\Users\\sagio\\AppData\\Local\\Continuum\\Anaconda3\\lib\\site-packages\\sklearn\\utils\\validation.py:395: DeprecationWarning: Passing 1d arrays as data is deprecated in 0.17 and will raise ValueError in 0.19. Reshape your data either using X.reshape(-1, 1) if your data has a single feature or X.reshape(1, -1) if it contains a single sample.\n",
      "  DeprecationWarning)\n"
     ]
    },
    {
     "data": {
      "text/plain": [
       "array([[0.35820896, 0.64179104]])"
      ]
     },
     "execution_count": 29,
     "metadata": {},
     "output_type": "execute_result"
    }
   ],
   "source": [
    "rf.estimators_[0].predict_proba(inst)"
   ]
  },
  {
   "cell_type": "code",
   "execution_count": 6,
   "metadata": {},
   "outputs": [],
   "source": [
    "import operator\n",
    "branch_predictions_dict={i:0 for i in range(len(cs.conjunctionSet))}\n",
    "for inst in train_x:\n",
    "    for i,b in enumerate(cs.conjunctionSet):\n",
    "        if b.containsInstance(inst):\n",
    "            branch_predictions_dict[i]+=1\n",
    "for inst in test_x:\n",
    "    for i,b in enumerate(cs.conjunctionSet):\n",
    "        if b.containsInstance(inst):\n",
    "            branch_predictions_dict[i]+=1\n",
    "sortd = sorted(branch_predictions_dict.items(), key=operator.itemgetter(1))\n",
    "sortd.reverse()\n",
    "sortd={i[0]:i[1] for i in sortd}"
   ]
  },
  {
   "cell_type": "code",
   "execution_count": 7,
   "metadata": {},
   "outputs": [
    {
     "data": {
      "text/plain": [
       "entropy                    -0.266864\n",
       "number of instances         0.110777\n",
       "number of predictions       1.000000\n",
       "probability no epsilon      0.333552\n",
       "probability with epsilon    0.333605\n",
       "Name: number of predictions, dtype: float64"
      ]
     },
     "execution_count": 7,
     "metadata": {},
     "output_type": "execute_result"
    }
   ],
   "source": [
    "records=[]\n",
    "from scipy.stats import entropy\n",
    "for indx,b in enumerate(cs.conjunctionSet):\n",
    "    records.append({'number of instances':b.number_of_samples,'probability with epsilon':b.calculate_branch_probability_by_ecdf(cs.ecdf_dict),\n",
    "                   'entropy':entropy(b.label_probas),'probability no epsilon':b.calculate_branch_probability_by_ecdf2(cs.ecdf_dict),'number of predictions':sortd[indx]})\n",
    "analysis_df = pd.DataFrame(records)\n",
    "analysis_df.corr()['number of predictions']"
   ]
  },
  {
   "cell_type": "code",
   "execution_count": null,
   "metadata": {},
   "outputs": [],
   "source": [
    "for b in cs.branches_lists[1]:\n",
    "    b.printBranch()"
   ]
  },
  {
   "cell_type": "code",
   "execution_count": null,
   "metadata": {},
   "outputs": [],
   "source": [
    "for b in cs.conjunctionSet:\n",
    "    b.printBranch()\n",
    "    print(b.calculate_branch_probability_by_ecdf(cs.ecdf_dict))\n",
    "    print('----------------------')"
   ]
  },
  {
   "cell_type": "code",
   "execution_count": null,
   "metadata": {
    "collapsed": true
   },
   "outputs": [],
   "source": [
    "2 > 1.375, 4 > 5.0, 6 > 0.208, 9 > 2.5, 0 <= 0.5, 12 <= 88.0\n",
    "\n",
    "4 > 7.5, 6 > 1.375, 0 <= 0.5, 3 <= 2.5, 6 <= 2.355, 7 <= 0.5, 9 <= 0.5, 11 <= 2.5"
   ]
  },
  {
   "cell_type": "code",
   "execution_count": null,
   "metadata": {},
   "outputs": [],
   "source": [
    "min_intervals_list=[]\n",
    "for j in range(len(x_columns)):\n",
    "    if featrue_types[j]=='int':\n",
    "        min_intervals_list.append(0.49)\n",
    "        continue\n",
    "    distinct_vals = sorted(set(df[x_columns[j]].values))\n",
    "    min_interval=np.inf\n",
    "    previous = distinct_vals[0]\n",
    "    for i in distinct_vals[1:]:\n",
    "        if i-previous<min_interval:\n",
    "            min_interval = i-previous\n",
    "        previous=i\n",
    "    min_intervals_list.append(min_interval)"
   ]
  },
  {
   "cell_type": "code",
   "execution_count": null,
   "metadata": {},
   "outputs": [],
   "source": [
    "min_intervals_list"
   ]
  },
  {
   "cell_type": "code",
   "execution_count": null,
   "metadata": {},
   "outputs": [],
   "source": [
    "len(cs.conjunctionSet)"
   ]
  },
  {
   "cell_type": "code",
   "execution_count": null,
   "metadata": {},
   "outputs": [],
   "source": [
    "c=0\n",
    "for b in cs.conjunctionSet:\n",
    "    if b.features_upper[6]-b.features_lower[6]<min_intervals_list[6]:\n",
    "        c+=1\n",
    "        b.printBranch()\n",
    "print(c)"
   ]
  },
  {
   "cell_type": "code",
   "execution_count": null,
   "metadata": {},
   "outputs": [],
   "source": [
    "temp_df.iloc[1]"
   ]
  },
  {
   "cell_type": "code",
   "execution_count": null,
   "metadata": {},
   "outputs": [],
   "source": [
    "temp_df=cs.get_conjunction_set_df()\n",
    "temp_df.iloc[0]"
   ]
  },
  {
   "cell_type": "code",
   "execution_count": null,
   "metadata": {},
   "outputs": [],
   "source": [
    "for b in cs.branches_lists[1]:\n",
    "    b.printBranch()"
   ]
  },
  {
   "cell_type": "code",
   "execution_count": null,
   "metadata": {},
   "outputs": [],
   "source": [
    "for b in cs.conjunctionSet:\n",
    "    b.printBranch()"
   ]
  },
  {
   "cell_type": "code",
   "execution_count": null,
   "metadata": {},
   "outputs": [],
   "source": [
    "for b in cs.conjunctionSet:\n",
    "    if b.features_upper[4]-b.features_lower[4]<1 and b.features_lower[4]-int(b.features_lower[4])==0:\n",
    "        b.printBranch()"
   ]
  },
  {
   "cell_type": "code",
   "execution_count": null,
   "metadata": {},
   "outputs": [],
   "source": [
    "for b in cs.conjunctionSet:\n",
    "    print(b.toString())\n",
    "    print(b.features_upper)\n",
    "    print(b.features_lower)\n",
    "    print('----------------')"
   ]
  },
  {
   "cell_type": "code",
   "execution_count": null,
   "metadata": {
    "collapsed": true
   },
   "outputs": [],
   "source": []
  }
 ],
 "metadata": {
  "kernelspec": {
   "display_name": "Python 3",
   "language": "python",
   "name": "python3"
  },
  "language_info": {
   "codemirror_mode": {
    "name": "ipython",
    "version": 3
   },
   "file_extension": ".py",
   "mimetype": "text/x-python",
   "name": "python",
   "nbconvert_exporter": "python",
   "pygments_lexer": "ipython3",
   "version": "3.6.1"
  }
 },
 "nbformat": 4,
 "nbformat_minor": 2
}
