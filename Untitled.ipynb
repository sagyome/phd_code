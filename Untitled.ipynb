{
 "cells": [
  {
   "cell_type": "code",
   "execution_count": 1,
   "metadata": {},
   "outputs": [],
   "source": [
    "import pandas as pd\n",
    "import numpy as np\n",
    "from Experiment import *\n",
    "from sklearn.tree import export_graphviz\n",
    "from NewModelBuilder import *\n",
    "import pydot"
   ]
  },
  {
   "cell_type": "code",
   "execution_count": 2,
   "metadata": {},
   "outputs": [
    {
     "name": "stdout",
     "output_type": "stream",
     "text": [
      "i=0\n",
      "i=1\n",
      "i=2\n",
      "i=3\n"
     ]
    }
   ],
   "source": [
    "np.random.seed(100)\n",
    "df,x_columns,y_column=read_winery_data()\n",
    "train_x,train_y,test_x,test_y=divide_to_train_test(df,x_columns,y_column)\n",
    "rf=RandomForestClassifier(n_estimators=5)\n",
    "rf.fit(train_x,train_y)\n",
    "cs=ConjunctionSet(x_columns,df,rf,130000,'probability')"
   ]
  },
  {
   "cell_type": "code",
   "execution_count": 3,
   "metadata": {},
   "outputs": [
    {
     "data": {
      "text/plain": [
       "'Magnesium > 131.0, OD280/OD315 of diluted wines > 2.205, Proline > 745.0, Alcohol <= 12.525, Ash <= 2.235, Alcalinity of ash <= 15.75, Total phenols <= 2.58, Flavanoids <= 2.35, Nonflavanoid phenols <= 0.49, Color intensity <= 3.825, Proline <= 875.0, labels: [1 : 1.0 2 : 3.0 3 : 1.0 ] Number of samples: 2.72739603483'"
      ]
     },
     "execution_count": 3,
     "metadata": {},
     "output_type": "execute_result"
    }
   ],
   "source": [
    "cs.conjunctionSet[33].toString()"
   ]
  },
  {
   "cell_type": "code",
   "execution_count": 12,
   "metadata": {},
   "outputs": [
    {
     "data": {
      "text/plain": [
       "0.016853932584269704"
      ]
     },
     "execution_count": 12,
     "metadata": {},
     "output_type": "execute_result"
    }
   ],
   "source": [
    "from statsmodels.distributions.empirical_distribution import ECDF\n",
    "\n",
    "ecdf=ECDF(df['OD280/OD315 of diluted wines'])\n",
    "ecdf(2.085)-ecdf(2.025)"
   ]
  },
  {
   "cell_type": "code",
   "execution_count": 4,
   "metadata": {},
   "outputs": [
    {
     "data": {
      "text/plain": [
       "Alcohol<12.0699996948                         0.000000\n",
       "Alcohol<12.5249996185                         1.000000\n",
       "Alcohol<inf                                   1.000000\n",
       "Hue<0.990000009537                            0.000000\n",
       "Hue<1.00499999523                             0.000000\n",
       "Hue<inf                                       0.000000\n",
       "OD280/OD315 of diluted wines<2.02500009537    0.000000\n",
       "OD280/OD315 of diluted wines<2.08500003815    0.000000\n",
       "OD280/OD315 of diluted wines<2.20499992371    0.000000\n",
       "OD280/OD315 of diluted wines<2.24000000954    0.000000\n",
       "OD280/OD315 of diluted wines<3.54500007629    0.000000\n",
       "OD280/OD315 of diluted wines<inf              0.000000\n",
       "Proline<618.5                                 0.000000\n",
       "Proline<670.0                                 0.000000\n",
       "Proline<735.0                                 0.000000\n",
       "Proline<745.0                                 0.000000\n",
       "Proline<875.0                                 1.000000\n",
       "Proline<inf                                   1.000000\n",
       "Malic acid<1.11500000954                      0.000000\n",
       "Malic acid<1.18000006676                      0.000000\n",
       "Malic acid<1.64499998093                      0.000000\n",
       "Malic acid<inf                                0.000000\n",
       "Ash<2.23500013351                             1.000000\n",
       "Ash<inf                                       1.000000\n",
       "Alcalinity of ash<15.75                       1.000000\n",
       "Alcalinity of ash<17.75                       1.000000\n",
       "Alcalinity of ash<inf                         1.000000\n",
       "Magnesium<101.5                               0.000000\n",
       "Magnesium<117.0                               0.000000\n",
       "Magnesium<131.0                               0.000000\n",
       "Magnesium<138.5                               0.000000\n",
       "Magnesium<99.5                                0.000000\n",
       "Magnesium<inf                                 0.000000\n",
       "Total phenols<2.125                           0.000000\n",
       "Total phenols<2.36500000954                   0.000000\n",
       "Total phenols<2.57999992371                   1.000000\n",
       "Total phenols<2.66499996185                   1.000000\n",
       "Total phenols<inf                             1.000000\n",
       "Flavanoids<1.00499999523                      0.000000\n",
       "Flavanoids<1.66499996185                      0.000000\n",
       "Flavanoids<2.34999990463                      1.000000\n",
       "Flavanoids<inf                                1.000000\n",
       "Nonflavanoid phenols<0.490000009537           1.000000\n",
       "Nonflavanoid phenols<inf                      1.000000\n",
       "Proanthocyanins<1.00499999523                 0.000000\n",
       "Proanthocyanins<1.26999998093                 0.000000\n",
       "Proanthocyanins<inf                           0.000000\n",
       "Color intensity<3.46499991417                 0.000000\n",
       "Color intensity<3.48000001907                 0.000000\n",
       "Color intensity<3.82499980927                 1.000000\n",
       "Color intensity<3.875                         1.000000\n",
       "Color intensity<4.65000009537                 1.000000\n",
       "Color intensity<inf                           1.000000\n",
       "label                                         2.000000\n",
       "num_of_samples                                2.727396\n",
       "weight                                        3.000000\n",
       "Name: 100, dtype: float64"
      ]
     },
     "execution_count": 4,
     "metadata": {},
     "output_type": "execute_result"
    }
   ],
   "source": [
    "temp_df=cs.get_conjunction_set_df()\n",
    "temp_df.columns=[x_columns[int(i.split('<')[0])]+'<'+i.split('<')[1] if '<' in i else i for i in temp_df.columns]\n",
    "temp_df.iloc[temp_df.index.values[100]]"
   ]
  },
  {
   "cell_type": "code",
   "execution_count": null,
   "metadata": {},
   "outputs": [],
   "source": [
    "class_names=[str(i) for i in rf.classes_]"
   ]
  },
  {
   "cell_type": "code",
   "execution_count": null,
   "metadata": {},
   "outputs": [],
   "source": [
    "est=rf.estimators_[0]\n",
    "t=est.tree_\n",
    "export_graphviz(t,out_file='tree1.dot',feature_names=x_columns,class_names=class_names,  \n",
    "                         filled=True, rounded=True)\n",
    "est=rf.estimators_[1]\n",
    "t=est.tree_\n",
    "export_graphviz(t,out_file='tree2.dot',feature_names=x_columns,class_names=class_names,  \n",
    "                         filled=True, rounded=True)"
   ]
  },
  {
   "cell_type": "code",
   "execution_count": null,
   "metadata": {},
   "outputs": [],
   "source": [
    "nb=NewModelBuilder(cs.get_conjunction_set_df())\n",
    "nb.train_new_model()\n",
    "nb.new_model_processing()"
   ]
  },
  {
   "cell_type": "code",
   "execution_count": null,
   "metadata": {},
   "outputs": [],
   "source": [
    "est=nb.model\n",
    "t=est.tree_\n",
    "adjusted_feature_names=[x_columns[int(i.split('<')[0])]+'>'+i.split('<')[1] for i in nb.input_feature_names]\n",
    "export_graphviz(t,out_file='tree3.dot',feature_names=adjusted_feature_names,class_names=[str(i) for i in est.classes_],  \n",
    "                         filled=True, rounded=True)"
   ]
  },
  {
   "cell_type": "code",
   "execution_count": null,
   "metadata": {},
   "outputs": [],
   "source": [
    "rf_predictions=rf.predict_proba(test_x)\n",
    "nm_predictions=np.array([nb.predict_instance_probas(i)[0] for i in test_x])"
   ]
  },
  {
   "cell_type": "code",
   "execution_count": null,
   "metadata": {},
   "outputs": [],
   "source": [
    "for i,j,actual in zip(rf_predictions,nm_predictions,test_y):\n",
    "    if class_names[np.argmax(i)]!=actual:\n",
    "        print(i)\n",
    "        print(j)\n",
    "        print(class_names[np.argmax(i)])\n",
    "        print(class_names[np.argmax(j)])\n",
    "        print(actual)\n",
    "        print('----------')"
   ]
  },
  {
   "cell_type": "code",
   "execution_count": null,
   "metadata": {},
   "outputs": [],
   "source": [
    "nm_predictions"
   ]
  },
  {
   "cell_type": "code",
   "execution_count": null,
   "metadata": {},
   "outputs": [],
   "source": [
    "np.sum([np.sum(np.array(i)-np.array(j))==0 for i,j in zip(rf_predictions,nm_predictions)])/len(rf_predictions)"
   ]
  },
  {
   "cell_type": "code",
   "execution_count": null,
   "metadata": {},
   "outputs": [],
   "source": [
    "rf_predictions\n",
    "nm_predictions=np.array([int(class_names[np.argmax(nb.predict_instance_probas(i)[0])]) for i in test_x])\n",
    "rf_predictions"
   ]
  },
  {
   "cell_type": "code",
   "execution_count": null,
   "metadata": {},
   "outputs": [],
   "source": [
    "for i in cs.conjunctionSet:\n",
    "    print(i.toString())\n",
    "    print('')"
   ]
  }
 ],
 "metadata": {
  "kernelspec": {
   "display_name": "Python 3",
   "language": "python",
   "name": "python3"
  },
  "language_info": {
   "codemirror_mode": {
    "name": "ipython",
    "version": 3
   },
   "file_extension": ".py",
   "mimetype": "text/x-python",
   "name": "python",
   "nbconvert_exporter": "python",
   "pygments_lexer": "ipython3",
   "version": "3.6.1"
  }
 },
 "nbformat": 4,
 "nbformat_minor": 2
}
