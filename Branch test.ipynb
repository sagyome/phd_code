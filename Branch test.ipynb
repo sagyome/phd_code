{
 "cells": [
  {
   "cell_type": "code",
   "execution_count": 1,
   "metadata": {
    "collapsed": true
   },
   "outputs": [],
   "source": [
    "import numpy as np\n",
    "from Branch import Branch"
   ]
  },
  {
   "cell_type": "code",
   "execution_count": 58,
   "metadata": {},
   "outputs": [],
   "source": [
    "branch1 = Branch(['feature1','feature2','feature3','feature4'],['car','cartiv'],label_probas=[2.1,2.9])"
   ]
  },
  {
   "cell_type": "code",
   "execution_count": 35,
   "metadata": {
    "collapsed": true
   },
   "outputs": [],
   "source": [
    "branch1.features_lower[0]=0\n",
    "branch1.features_lower[1]=0\n",
    "branch1.features_lower[2]=0\n",
    "branch1.features_lower[3]=0\n",
    "\n",
    "branch1.features_upper[0]=3\n",
    "branch1.features_upper[1]=3\n",
    "branch1.features_upper[2]=3\n",
    "branch1.features_upper[3]=3"
   ]
  },
  {
   "cell_type": "code",
   "execution_count": 4,
   "metadata": {},
   "outputs": [
    {
     "data": {
      "text/plain": [
       "[0, 0, 0, 0]"
      ]
     },
     "execution_count": 4,
     "metadata": {},
     "output_type": "execute_result"
    }
   ],
   "source": [
    "branch1.features_lower"
   ]
  },
  {
   "cell_type": "code",
   "execution_count": 5,
   "metadata": {},
   "outputs": [
    {
     "data": {
      "text/plain": [
       "[3, 2, 3, 3]"
      ]
     },
     "execution_count": 5,
     "metadata": {},
     "output_type": "execute_result"
    }
   ],
   "source": [
    "branch1.addCondition(1,2,'upper')\n",
    "branch1.features_upper"
   ]
  },
  {
   "cell_type": "code",
   "execution_count": 6,
   "metadata": {},
   "outputs": [
    {
     "name": "stdout",
     "output_type": "stream",
     "text": [
      "feature1 > 0, feature2 > 0, feature3 > 0, feature4 > 0, feature1 <= 3, feature2 <= 2, feature3 <= 3, feature4 <= 3, labels: {'cartiv : 0.9', 'car : 2.1'}\n"
     ]
    }
   ],
   "source": [
    "branch1.printBranch()"
   ]
  },
  {
   "cell_type": "code",
   "execution_count": 8,
   "metadata": {},
   "outputs": [],
   "source": [
    "branch2= Branch(['feature1','feature2','feature3','feature4'],['car','cartiv'],label_probas=[3,1])"
   ]
  },
  {
   "cell_type": "code",
   "execution_count": 49,
   "metadata": {},
   "outputs": [],
   "source": [
    "branch2.features_lower[0]=0\n",
    "branch2.features_lower[1]=0\n",
    "branch2.features_lower[2]=0\n",
    "branch2.features_lower[3]=0\n",
    "\n",
    "branch2.features_upper[0]=1\n",
    "branch2.features_upper[1]=3\n",
    "\n",
    "branch2.features_upper[2]=3\n",
    "branch2.features_upper[3]=3"
   ]
  },
  {
   "cell_type": "code",
   "execution_count": 44,
   "metadata": {},
   "outputs": [
    {
     "data": {
      "text/plain": [
       "array([ True, False,  True,  True], dtype=bool)"
      ]
     },
     "execution_count": 44,
     "metadata": {},
     "output_type": "execute_result"
    }
   ],
   "source": [
    "np.array(branch1.features_upper) > np.array(branch2.features_lower)"
   ]
  },
  {
   "cell_type": "code",
   "execution_count": 32,
   "metadata": {},
   "outputs": [
    {
     "data": {
      "text/plain": [
       "array([ True,  True,  True,  True], dtype=bool)"
      ]
     },
     "execution_count": 32,
     "metadata": {},
     "output_type": "execute_result"
    }
   ],
   "source": [
    "np.array(branch2.features_upper)>np.array(branch1.features_lower)"
   ]
  },
  {
   "cell_type": "code",
   "execution_count": 50,
   "metadata": {},
   "outputs": [
    {
     "name": "stdout",
     "output_type": "stream",
     "text": [
      "feature1 > 0, feature2 > 0, feature3 > 0, feature4 > 0, feature1 <= 1, feature2 <= 3, feature3 <= 3, feature4 <= 3, labels: {'car : 3', 'cartiv : 1'}\n"
     ]
    }
   ],
   "source": [
    "branch2.printBranch()"
   ]
  },
  {
   "cell_type": "code",
   "execution_count": 47,
   "metadata": {},
   "outputs": [
    {
     "name": "stdout",
     "output_type": "stream",
     "text": [
      "feature1 > 0, feature2 > 0, feature3 > 0, feature4 > 0, feature1 <= 3, feature2 <= 3, feature3 <= 3, feature4 <= 3, labels: {'cartiv : 0.9', 'car : 2.1'}\n"
     ]
    }
   ],
   "source": [
    "branch1.printBranch()"
   ]
  },
  {
   "cell_type": "code",
   "execution_count": 51,
   "metadata": {},
   "outputs": [
    {
     "data": {
      "text/plain": [
       "False"
      ]
     },
     "execution_count": 51,
     "metadata": {},
     "output_type": "execute_result"
    }
   ],
   "source": [
    "branch1.contradictBranch(branch2)"
   ]
  },
  {
   "cell_type": "code",
   "execution_count": 53,
   "metadata": {
    "collapsed": true
   },
   "outputs": [],
   "source": [
    "b=branch1.mergeBranch(branch2)"
   ]
  },
  {
   "cell_type": "code",
   "execution_count": 54,
   "metadata": {},
   "outputs": [
    {
     "data": {
      "text/plain": [
       "\"feature1 > 0, feature2 > 0, feature3 > 0, feature4 > 0, feature1 <= 1, feature2 <= 3, feature3 <= 3, feature4 <= 3, labels: {'cartiv : 1.9', 'car : 5.1'}\""
      ]
     },
     "execution_count": 54,
     "metadata": {},
     "output_type": "execute_result"
    }
   ],
   "source": [
    "b.toString()"
   ]
  },
  {
   "cell_type": "code",
   "execution_count": 60,
   "metadata": {},
   "outputs": [
    {
     "data": {
      "text/plain": [
       "1"
      ]
     },
     "execution_count": 60,
     "metadata": {},
     "output_type": "execute_result"
    }
   ],
   "source": [
    "branch1.getLabel()"
   ]
  },
  {
   "cell_type": "code",
   "execution_count": null,
   "metadata": {},
   "outputs": [],
   "source": [
    "from sklearn.ensemble import RandomForestClassifier\n"
   ]
  }
 ],
 "metadata": {
  "kernelspec": {
   "display_name": "Python 3",
   "language": "python",
   "name": "python3"
  },
  "language_info": {
   "codemirror_mode": {
    "name": "ipython",
    "version": 3
   },
   "file_extension": ".py",
   "mimetype": "text/x-python",
   "name": "python",
   "nbconvert_exporter": "python",
   "pygments_lexer": "ipython3",
   "version": "3.6.1"
  }
 },
 "nbformat": 4,
 "nbformat_minor": 1
}
